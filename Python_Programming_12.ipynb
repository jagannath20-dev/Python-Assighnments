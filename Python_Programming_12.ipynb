{
 "cells": [
  {
   "cell_type": "markdown",
   "id": "9b8cd6f2",
   "metadata": {},
   "source": [
    "Write a Python program to Extract Unique values dictionary values?"
   ]
  },
  {
   "cell_type": "code",
   "execution_count": 2,
   "id": "08cffad1",
   "metadata": {},
   "outputs": [
    {
     "name": "stdout",
     "output_type": "stream",
     "text": [
      "The original dicctionary is : {'a': [1, 2, 3, 4, 5, 6], 'b': [2, 3, 4, 5, 6, 7, 8, 9], 'c': [3, 4, 5, 6, 7, 8, 9, 10, 11], 'd': [4, 5, 6, 7, 8, 9, 0, 15, 17]}\n",
      "The unique vales list is : [0, 1, 2, 3, 4, 5, 6, 7, 8, 9, 10, 11, 15, 17]\n"
     ]
    }
   ],
   "source": [
    "dict1 = {'a':[1,2,3,4,5,6],\n",
    "         'b':[2,3,4,5,6,7,8,9],\n",
    "         'c':[3,4,5,6,7,8,9,10,11],\n",
    "         'd':[4,5,6,7,8,9,0,15,17]}\n",
    "print(\"The original dicctionary is : \" + str(dict1))\n",
    "res = list(sorted({ele for val in dict1.values() for ele in val}))\n",
    "print(\"The unique vales list is : \" + str(res))"
   ]
  },
  {
   "cell_type": "code",
   "execution_count": 3,
   "id": "c343a53e",
   "metadata": {},
   "outputs": [
    {
     "name": "stdout",
     "output_type": "stream",
     "text": [
      "The original dicctionary is : {'a': [1, 2, 3, 4, 5, 6], 'b': [2, 3, 4, 5, 6, 7, 8, 9], 'c': [3, 4, 5, 6, 7, 8, 9, 10, 11], 'd': [4, 5, 6, 7, 8, 9, 0, 15, 17]}\n",
      "The unique vales list is : [0, 1, 2, 3, 4, 5, 6, 7, 8, 9, 10, 11, 15, 17]\n"
     ]
    }
   ],
   "source": [
    "from itertools import chain\n",
    "dict1 = {'a':[1,2,3,4,5,6],\n",
    "         'b':[2,3,4,5,6,7,8,9],\n",
    "         'c':[3,4,5,6,7,8,9,10,11],\n",
    "         'd':[4,5,6,7,8,9,0,15,17]}\n",
    "print(\"The original dicctionary is : \" + str(dict1))\n",
    "res = list(sorted(set(chain(*dict1.values()))))\n",
    "print(\"The unique vales list is : \" + str(res))"
   ]
  },
  {
   "cell_type": "markdown",
   "id": "08681a8d",
   "metadata": {},
   "source": [
    "Write a Python program to find the sum of all items in a dictionary?"
   ]
  },
  {
   "cell_type": "code",
   "execution_count": 7,
   "id": "0b341c4c",
   "metadata": {},
   "outputs": [
    {
     "name": "stdout",
     "output_type": "stream",
     "text": [
      "sum :  1000\n"
     ]
    }
   ],
   "source": [
    "def sum_of_dict(mydict):\n",
    "    list1 = []\n",
    "    for i in mydict:\n",
    "        list1.append(mydict[i])\n",
    "    final = sum(list1)\n",
    "    return final\n",
    "dict1 = {'a':100,'b':200,'c':300,'d':400}\n",
    "print(\"sum : \", sum_of_dict(dict1))"
   ]
  },
  {
   "cell_type": "code",
   "execution_count": 8,
   "id": "51e63b61",
   "metadata": {},
   "outputs": [
    {
     "name": "stdout",
     "output_type": "stream",
     "text": [
      "sum :  1000\n"
     ]
    }
   ],
   "source": [
    "def sum_of_dict(mydict):\n",
    "    sum = 0\n",
    "    for i in mydict.values():\n",
    "        sum = sum + i\n",
    "    return sum\n",
    "dict1 = {'a':100,'b':200,'c':300,'d':400}\n",
    "print(\"sum : \", sum_of_dict(dict1))"
   ]
  },
  {
   "cell_type": "markdown",
   "id": "d36005de",
   "metadata": {},
   "source": [
    "Write a Python program to Merging two Dictionaries?"
   ]
  },
  {
   "cell_type": "code",
   "execution_count": 10,
   "id": "755ead8a",
   "metadata": {},
   "outputs": [
    {
     "name": "stdout",
     "output_type": "stream",
     "text": [
      "{'a': 100, 'b': 200, 'c': 600, 'd': 400, 'e': 200, 'f': 400, 'g': 800}\n"
     ]
    }
   ],
   "source": [
    "def Merge(dict1,dict2):\n",
    "    res = dict1 | dict2\n",
    "    return res\n",
    "dict1 = {'a':100,'b':200,'c':300,'d':400}\n",
    "dict2 = {'e':200,'f':400,'c':600,'g':800}\n",
    "dict3 = dict1 | dict2\n",
    "print(dict3)"
   ]
  },
  {
   "cell_type": "markdown",
   "id": "1ded19b5",
   "metadata": {},
   "source": [
    "Write a Python program to convert key-values list to flat dictionary?"
   ]
  },
  {
   "cell_type": "code",
   "execution_count": 14,
   "id": "a311f0f2",
   "metadata": {
    "scrolled": true
   },
   "outputs": [
    {
     "name": "stdout",
     "output_type": "stream",
     "text": [
      "The original dictionary is : {'month': [1, 2, 3], 'name': ['Jan', 'Feb', 'Mar']}\n",
      "Flattened dictionary : {1: 'Jan', 2: 'Feb', 3: 'Mar'}\n"
     ]
    }
   ],
   "source": [
    "from itertools import product\n",
    "dict1 = {'month' : [1,2,3],\n",
    "         'name'  :['Jan','Feb','Mar']}\n",
    "print(\"The original dictionary is : \" + str(dict1))\n",
    "res = dict(zip(dict1['month'],dict1['name']))\n",
    "print(\"Flattened dictionary : \" + str(res))"
   ]
  },
  {
   "cell_type": "markdown",
   "id": "ce596f0b",
   "metadata": {},
   "source": [
    "Write a Python program to insertion at the beginning in OrderedDict?"
   ]
  },
  {
   "cell_type": "code",
   "execution_count": 19,
   "id": "972af47e",
   "metadata": {},
   "outputs": [
    {
     "name": "stdout",
     "output_type": "stream",
     "text": [
      "Resultant Dictionary : OrderedDict([('Harikrishna', '3'), ('Jagannath', '1'), ('Mahesh', '2')])\n"
     ]
    }
   ],
   "source": [
    "from collections import OrderedDict\n",
    "in_ordered_dict = OrderedDict([('Jagannath', '1'), ('Mahesh', '2')])\n",
    "in_ordered_dict.update({'Harikrishna':'3'})\n",
    "in_ordered_dict.move_to_end('Harikrishna', last = False)\n",
    "print (\"Resultant Dictionary : \"+str(in_ordered_dict))"
   ]
  },
  {
   "cell_type": "markdown",
   "id": "903cbd67",
   "metadata": {},
   "source": [
    "Write a Python program to check order of character in string using OrderedDict()?"
   ]
  },
  {
   "cell_type": "code",
   "execution_count": 23,
   "id": "702a14a8",
   "metadata": {},
   "outputs": [
    {
     "name": "stdout",
     "output_type": "stream",
     "text": [
      "true\n"
     ]
    }
   ],
   "source": [
    "from collections import OrderedDict\n",
    "def Check_Order(input,pattern):\n",
    "    dict = OrderedDict.fromkeys(input)\n",
    "    patternlen = 0\n",
    "    for key,value in dict.items():\n",
    "        if key==pattern[patternlen]:\n",
    "            patternlen = patternlen + 1\n",
    "            \n",
    "        if patternlen == (len(pattern)):\n",
    "            return 'true'\n",
    "    return false\n",
    "if __name__ == \"__main__\": \n",
    "    input = 'engineers rock'\n",
    "    pattern = 'er'\n",
    "    print(Check_Order(input,pattern))"
   ]
  },
  {
   "cell_type": "markdown",
   "id": "4ed74d90",
   "metadata": {},
   "source": [
    "Write a Python program to sort Python Dictionaries by Key or Value?"
   ]
  },
  {
   "cell_type": "code",
   "execution_count": 26,
   "id": "3fd73b9c",
   "metadata": {},
   "outputs": [
    {
     "name": "stdout",
     "output_type": "stream",
     "text": [
      "1 2 3 4 5 6 "
     ]
    }
   ],
   "source": [
    "def dict():\n",
    "    key_value = {}\n",
    "    \n",
    "    key_value[2] = 56      \n",
    "    key_value[1] = 2\n",
    "    key_value[5] = 12\n",
    "    key_value[4] = 24\n",
    "    key_value[6] = 18     \n",
    "    key_value[3] = 323\n",
    "    for i in sorted (key_value.keys()):\n",
    "        print(i,end=' ')\n",
    "def main():\n",
    "    dict()\n",
    "if __name__==\"__main__\":\n",
    "    main()"
   ]
  },
  {
   "cell_type": "code",
   "execution_count": 27,
   "id": "d9e561b8",
   "metadata": {},
   "outputs": [
    {
     "name": "stdout",
     "output_type": "stream",
     "text": [
      "2 12 18 24 56 323 "
     ]
    }
   ],
   "source": [
    "def dict():\n",
    "    key_value = {}\n",
    "    \n",
    "    key_value[2] = 56      \n",
    "    key_value[1] = 2\n",
    "    key_value[5] = 12\n",
    "    key_value[4] = 24\n",
    "    key_value[6] = 18     \n",
    "    key_value[3] = 323\n",
    "    for i in sorted (key_value.values()):\n",
    "        print(i,end=' ')\n",
    "def main():\n",
    "    dict()\n",
    "if __name__==\"__main__\":\n",
    "    main()"
   ]
  },
  {
   "cell_type": "code",
   "execution_count": null,
   "id": "a3240b61",
   "metadata": {},
   "outputs": [],
   "source": []
  }
 ],
 "metadata": {
  "kernelspec": {
   "display_name": "Python 3 (ipykernel)",
   "language": "python",
   "name": "python3"
  },
  "language_info": {
   "codemirror_mode": {
    "name": "ipython",
    "version": 3
   },
   "file_extension": ".py",
   "mimetype": "text/x-python",
   "name": "python",
   "nbconvert_exporter": "python",
   "pygments_lexer": "ipython3",
   "version": "3.9.7"
  }
 },
 "nbformat": 4,
 "nbformat_minor": 5
}
