{
 "cells": [
  {
   "cell_type": "markdown",
   "id": "31ad69f3",
   "metadata": {},
   "source": [
    "1.Define a class with a generator which can iterate the numbers, which are divisible by 7, between a given range 0 \n",
    "and n."
   ]
  },
  {
   "cell_type": "code",
   "execution_count": 4,
   "id": "9a5740b9",
   "metadata": {},
   "outputs": [
    {
     "name": "stdout",
     "output_type": "stream",
     "text": [
      "0 7 14 21 28 35 42 49 56 63 70 77 84 91 98 105 "
     ]
    }
   ],
   "source": [
    "class division_generator:\n",
    "    def __init__(self,num):\n",
    "        self.num = num\n",
    "    def get_num(self):\n",
    "        for i in range(0,self.num+1):\n",
    "            if i % 7 == 0:\n",
    "                yield i\n",
    "out = division_generator(105)\n",
    "for i in out.get_num():\n",
    "    print(i,end = ' ')"
   ]
  },
  {
   "cell_type": "raw",
   "id": "f7eba2a3",
   "metadata": {},
   "source": [
    "2.Write a program to compute the frequency of the words from the input. The output should output after sorting the key alphanumerically.\n",
    "Suppose the following input is supplied to the program:\n",
    "New to Python or choosing between Python 2 and Python 3? Read Python 2 or Python 3.\n",
    "Then, the output should be:\n",
    "2:2 3.:1 3?:1 New:1 Python:5 Read:1 and:1 between:1 choosing:1 or:2 to:1"
   ]
  },
  {
   "cell_type": "code",
   "execution_count": 11,
   "id": "2225a894",
   "metadata": {},
   "outputs": [
    {
     "name": "stdout",
     "output_type": "stream",
     "text": [
      "Enter the input of words : New to Python or choosing between Python 2 and Python 3? Read Python 2 or Python 3.\n",
      "2:2 3.:1 3?:1 New:1 Python:5 Read:1 and:1 between:1 choosing:1 or:2 to:1 "
     ]
    }
   ],
   "source": [
    "def sort_aplhabetically():\n",
    "    str1 = input(\"Enter the input of words : \")\n",
    "    freq = {}\n",
    "    for ele in str1.split(\" \"):\n",
    "        if freq.get(ele)==None:\n",
    "            freq[ele] = 1\n",
    "        else:\n",
    "            freq[ele] += 1\n",
    "    for ele in sorted(freq):\n",
    "        print(f'{ele}:{freq[ele]}',end=\" \")\n",
    "sort_aplhabetically()"
   ]
  },
  {
   "cell_type": "markdown",
   "id": "f526ba24",
   "metadata": {},
   "source": [
    "3.Define a class Person and its two child classes: Male and Female. All classes have a method \"getGender\" which can print \"Male\" for Male class and \"Female\" for Female class. ?"
   ]
  },
  {
   "cell_type": "code",
   "execution_count": 12,
   "id": "4d2a40bf",
   "metadata": {},
   "outputs": [
    {
     "name": "stdout",
     "output_type": "stream",
     "text": [
      "Male\n",
      "Female\n"
     ]
    }
   ],
   "source": [
    "class person:\n",
    "    def get_Gender():\n",
    "        pass\n",
    "class Male:\n",
    "    def get_Gender():\n",
    "        print('Male')\n",
    "class Female:\n",
    "    def get_Gender():\n",
    "        print('Female')\n",
    "Male.get_Gender()\n",
    "Female.get_Gender()"
   ]
  },
  {
   "cell_type": "markdown",
   "id": "f3b55116",
   "metadata": {},
   "source": [
    "Please write a program to generate all sentences where subject is in [\"I\", \"You\"] and verb is in [\"Play\", \"Love\"] and the object is in [\"Hockey\",\"Football\"]."
   ]
  },
  {
   "cell_type": "code",
   "execution_count": 14,
   "id": "c3f193ce",
   "metadata": {},
   "outputs": [
    {
     "name": "stdout",
     "output_type": "stream",
     "text": [
      "I Play Hockey\n",
      "I Play Football\n",
      "I Love Hockey\n",
      "I Love Football\n",
      "You Play Hockey\n",
      "You Play Football\n",
      "You Love Hockey\n",
      "You Love Football\n"
     ]
    }
   ],
   "source": [
    "def gen_sen():\n",
    "    sub = [\"I\",\"You\"]\n",
    "    verb = [\"Play\",\"Love\"]\n",
    "    Object = [\"Hockey\",\"Football\"]\n",
    "    for s in sub:\n",
    "        for v in verb:\n",
    "            for o in Object:\n",
    "                print(f'{s} {v} {o}')\n",
    "gen_sen()"
   ]
  },
  {
   "cell_type": "markdown",
   "id": "7993a066",
   "metadata": {},
   "source": [
    "Please write a program to compress and decompress the string \"hello world!hello world!hello world!hello world!\"."
   ]
  },
  {
   "cell_type": "code",
   "execution_count": 15,
   "id": "5e774b67",
   "metadata": {},
   "outputs": [
    {
     "name": "stdout",
     "output_type": "stream",
     "text": [
      "hel2o world!hel2o world!hel2o world!hel2o world!\n",
      "hello world!hello world!hello world!hello world!\n",
      "ineuron ful2 stack datascience\n",
      "ineuron full stack datascience\n"
     ]
    }
   ],
   "source": [
    "def compress(string):\n",
    "    output = string[0]\n",
    "    count = 1\n",
    "    for ele in range(len(string)-1):\n",
    "        if string[ele] == string[ele+1]:\n",
    "            count +=1\n",
    "        else:\n",
    "            if count > 1:\n",
    "                output += str(count)\n",
    "            output += string[ele+1]\n",
    "            count = 1\n",
    "    if count > 1:\n",
    "        output += str(count)            \n",
    "    print(output)\n",
    "\n",
    "\n",
    "def decompress(string):\n",
    "    output = ''\n",
    "    for ele in range(len(string)):\n",
    "        if string[ele].isdigit():\n",
    "            output += output[-1]*(int(string[ele])-1)\n",
    "        else:\n",
    "            output += string[ele]\n",
    "    print(output)\n",
    "    \n",
    "        \n",
    "compress(\"hello world!hello world!hello world!hello world!\")\n",
    "decompress(\"hel2o world!hel2o world!hel2o world!hel2o world!\")\n",
    "\n",
    "compress('ineuron full stack datascience')\n",
    "decompress('ineuron ful2 stack datascience')\n"
   ]
  },
  {
   "cell_type": "markdown",
   "id": "848ac31a",
   "metadata": {},
   "source": [
    "Please write a binary search function which searches an item in a sorted list. The function should return the index of element to be searched in the list."
   ]
  },
  {
   "cell_type": "code",
   "execution_count": 16,
   "id": "9bdd9cd9",
   "metadata": {},
   "outputs": [
    {
     "name": "stdout",
     "output_type": "stream",
     "text": [
      "7\n",
      "Input Element not in the list\n"
     ]
    }
   ],
   "source": [
    "sorted_list = [1,2,3,4,5,6,7,8,9,10]\n",
    "def binary_search(in_list,in_num):\n",
    "    low = 0\n",
    "    high = len(in_list)-1\n",
    "    while low <= high:\n",
    "        mid = high+low//2\n",
    "        if in_list[mid] < in_num:\n",
    "            low = mid+1\n",
    "        elif in_list[mid] > in_num:\n",
    "            high = mid-1\n",
    "        else:\n",
    "            return mid\n",
    "    else:\n",
    "        return 'Input Element not in the list'\n",
    "    \n",
    "print(binary_search(sorted_list,8))\n",
    "print(binary_search(sorted_list,100))"
   ]
  },
  {
   "cell_type": "code",
   "execution_count": null,
   "id": "41c25d15",
   "metadata": {},
   "outputs": [],
   "source": []
  }
 ],
 "metadata": {
  "kernelspec": {
   "display_name": "Python 3 (ipykernel)",
   "language": "python",
   "name": "python3"
  },
  "language_info": {
   "codemirror_mode": {
    "name": "ipython",
    "version": 3
   },
   "file_extension": ".py",
   "mimetype": "text/x-python",
   "name": "python",
   "nbconvert_exporter": "python",
   "pygments_lexer": "ipython3",
   "version": "3.9.7"
  }
 },
 "nbformat": 4,
 "nbformat_minor": 5
}
