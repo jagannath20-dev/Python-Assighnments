{
 "cells": [
  {
   "cell_type": "markdown",
   "id": "0f67830e",
   "metadata": {},
   "source": [
    "Write a Python program to find sum of elements in list?"
   ]
  },
  {
   "cell_type": "code",
   "execution_count": 1,
   "id": "b4b1ae1e",
   "metadata": {},
   "outputs": [
    {
     "name": "stdout",
     "output_type": "stream",
     "text": [
      "Sum of all elements in list1 is 95\n"
     ]
    }
   ],
   "source": [
    "list1 = [3,6,12,22,20,9,7,16]\n",
    "sum = 0\n",
    "for ele in range(0,len(list1)):\n",
    "    sum = sum + list1[ele]\n",
    "print(f'Sum of all elements in list1 is {sum}')"
   ]
  },
  {
   "cell_type": "markdown",
   "id": "b72d1900",
   "metadata": {},
   "source": [
    "Write a Python program to  Multiply all numbers in the list?"
   ]
  },
  {
   "cell_type": "code",
   "execution_count": 2,
   "id": "cc3cc0b7",
   "metadata": {},
   "outputs": [
    {
     "name": "stdout",
     "output_type": "stream",
     "text": [
      "Multiply of all numbers in list1 is 95800320\n"
     ]
    }
   ],
   "source": [
    "list1 = [3,6,12,22,20,9,7,16]\n",
    "result = 1\n",
    "for ele in range(0,len(list1)):\n",
    "    result = result*list1[ele]\n",
    "print(f'Multiply of all numbers in list1 is {result}')"
   ]
  },
  {
   "cell_type": "markdown",
   "id": "b53cf325",
   "metadata": {},
   "source": [
    "Write a Python program to find smallest number in a list?"
   ]
  },
  {
   "cell_type": "code",
   "execution_count": 3,
   "id": "348d9731",
   "metadata": {},
   "outputs": [
    {
     "name": "stdout",
     "output_type": "stream",
     "text": [
      "smallest number in list1 is 6\n"
     ]
    }
   ],
   "source": [
    "list1 = [14,6,12,22,20,9,7,16]\n",
    "list1.sort()\n",
    "print(f'smallest number in list1 is {list1[0]}')"
   ]
  },
  {
   "cell_type": "markdown",
   "id": "5eeeafc8",
   "metadata": {},
   "source": [
    "Write a Python program to find largest number in a list?"
   ]
  },
  {
   "cell_type": "code",
   "execution_count": 4,
   "id": "61772b43",
   "metadata": {},
   "outputs": [
    {
     "name": "stdout",
     "output_type": "stream",
     "text": [
      "Largest number in list1 is 22\n"
     ]
    }
   ],
   "source": [
    "list1 = [14,6,12,22,20,9,7,16]\n",
    "list1.sort()\n",
    "print(f'Largest number in list1 is {list1[-1]}')"
   ]
  },
  {
   "cell_type": "markdown",
   "id": "138bd870",
   "metadata": {},
   "source": [
    "Write a Python program to find second largest number in a list?"
   ]
  },
  {
   "cell_type": "code",
   "execution_count": 5,
   "id": "e7e728ca",
   "metadata": {},
   "outputs": [
    {
     "name": "stdout",
     "output_type": "stream",
     "text": [
      "second largest number in list1 is 20\n"
     ]
    }
   ],
   "source": [
    "list1 = [14,6,12,22,20,9,7,16]\n",
    "list1.sort()\n",
    "print(f'second largest number in list1 is {list1[-2]}')"
   ]
  },
  {
   "cell_type": "markdown",
   "id": "88ba266f",
   "metadata": {},
   "source": [
    "Write a Python program to find N largest elements from a list?"
   ]
  },
  {
   "cell_type": "code",
   "execution_count": 6,
   "id": "8ddd10b7",
   "metadata": {},
   "outputs": [
    {
     "name": "stdout",
     "output_type": "stream",
     "text": [
      "N-Largest numbers in list1 is [14, 16, 20, 22]\n"
     ]
    }
   ],
   "source": [
    "list1 = [14,6,12,22,20,9,7,16]\n",
    "n = 4\n",
    "list1.sort()\n",
    "print(f'N-Largest numbers in list1 is {list1[-4:]}')"
   ]
  },
  {
   "cell_type": "markdown",
   "id": "8253ad03",
   "metadata": {},
   "source": [
    "Write a Python program to print even numbers in a list?"
   ]
  },
  {
   "cell_type": "code",
   "execution_count": 7,
   "id": "a54bbed3",
   "metadata": {},
   "outputs": [
    {
     "name": "stdout",
     "output_type": "stream",
     "text": [
      "14 6 12 22 20 16 24 18 32 "
     ]
    }
   ],
   "source": [
    "list1 = [14,6,12,22,20,9,7,16,24,18,32,63]\n",
    "for num in list1:\n",
    "     if num%2 == 0:\n",
    "            print(num,end = ' ')"
   ]
  },
  {
   "cell_type": "markdown",
   "id": "29826937",
   "metadata": {},
   "source": [
    "Write a Python program to print odd numbers in a List?"
   ]
  },
  {
   "cell_type": "code",
   "execution_count": 8,
   "id": "a554a2d1",
   "metadata": {},
   "outputs": [
    {
     "name": "stdout",
     "output_type": "stream",
     "text": [
      "9 7 63 "
     ]
    }
   ],
   "source": [
    "list1 = [14,6,12,22,20,9,7,16,24,18,32,63]\n",
    "for num in list1:\n",
    "     if num%2 != 0:\n",
    "            print(num,end = ' ')"
   ]
  },
  {
   "cell_type": "markdown",
   "id": "ba3bd3c9",
   "metadata": {},
   "source": [
    "Write a Python program to Remove empty List from List?"
   ]
  },
  {
   "cell_type": "code",
   "execution_count": 9,
   "id": "5a2fa33c",
   "metadata": {},
   "outputs": [
    {
     "name": "stdout",
     "output_type": "stream",
     "text": [
      "[2, 6, [3, 4], [7, 8], 12, 14]\n"
     ]
    }
   ],
   "source": [
    "list1 = [2,6,[3,4],[],[7,8],[],12,14]\n",
    "res = [ele for ele in list1 if ele != []]\n",
    "print(res)"
   ]
  },
  {
   "cell_type": "markdown",
   "id": "8a047642",
   "metadata": {},
   "source": [
    "Write a Python program to Cloning or Copying a list?"
   ]
  },
  {
   "cell_type": "code",
   "execution_count": 11,
   "id": "8d9d5286",
   "metadata": {},
   "outputs": [
    {
     "name": "stdout",
     "output_type": "stream",
     "text": [
      "Enter a list[14,6,12,22,20,9,7,16,24,18,32,63]\n",
      "[14, 6, 12, 22, 20, 9, 7, 16, 24, 18, 32, 63] 140472617601344\n",
      "[14, 6, 12, 22, 20, 9, 7, 16, 24, 18, 32, 63] 140472617608128\n"
     ]
    }
   ],
   "source": [
    "import copy\n",
    "def cloneList():\n",
    "    list1 = eval(input('Enter a list'))\n",
    "    print(list1, id(list1))\n",
    "    cloned_list = list1.copy()\n",
    "    print(cloned_list, id(cloned_list))\n",
    "\n",
    "cloneList()"
   ]
  },
  {
   "cell_type": "markdown",
   "id": "99a2ab62",
   "metadata": {},
   "source": [
    "Write a Python program to Count occurrences of an element in a list?"
   ]
  },
  {
   "cell_type": "code",
   "execution_count": 12,
   "id": "dc41d83d",
   "metadata": {},
   "outputs": [
    {
     "name": "stdout",
     "output_type": "stream",
     "text": [
      "Enter the elements of the list: [14,6,12,22,20,9,7,16,24,18,32,63]\n",
      "Enter the element to find: 22\n",
      "There are 1 occurences of 22 in [14, 6, 12, 22, 20, 9, 7, 16, 24, 18, 32, 63]\n"
     ]
    }
   ],
   "source": [
    "def checkOccurence():\n",
    "    list1 = eval(input('Enter the elements of the list: '))\n",
    "    num = eval(input('Enter the element to find: '))\n",
    "    count = 0\n",
    "    if num in list1:\n",
    "        for ele in list1:\n",
    "            if ele == num:\n",
    "                count = count+1\n",
    "    print(f'There are {count} occurences of {num} in {list1}')\n",
    "    \n",
    "checkOccurence()"
   ]
  },
  {
   "cell_type": "code",
   "execution_count": null,
   "id": "89093342",
   "metadata": {},
   "outputs": [],
   "source": []
  }
 ],
 "metadata": {
  "kernelspec": {
   "display_name": "Python 3 (ipykernel)",
   "language": "python",
   "name": "python3"
  },
  "language_info": {
   "codemirror_mode": {
    "name": "ipython",
    "version": 3
   },
   "file_extension": ".py",
   "mimetype": "text/x-python",
   "name": "python",
   "nbconvert_exporter": "python",
   "pygments_lexer": "ipython3",
   "version": "3.9.7"
  }
 },
 "nbformat": 4,
 "nbformat_minor": 5
}
