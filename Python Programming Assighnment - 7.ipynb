{
 "cells": [
  {
   "cell_type": "markdown",
   "id": "39984f50",
   "metadata": {},
   "source": [
    "1.Write a Python Program to find sum of array?\n"
   ]
  },
  {
   "cell_type": "code",
   "execution_count": 7,
   "id": "c4924ef2",
   "metadata": {},
   "outputs": [
    {
     "name": "stdout",
     "output_type": "stream",
     "text": [
      "Sum of array [2, 5, 3, 7, 9, 11, 14] is 51\n"
     ]
    }
   ],
   "source": [
    "arr = [2,5,3,7,9,11,14]\n",
    "def sum_array(arr):\n",
    "    sum = 0\n",
    "    for i in arr:\n",
    "        sum = sum + i\n",
    "    return sum\n",
    "print(f'Sum of array {arr} is {sum(arr)}')"
   ]
  },
  {
   "cell_type": "markdown",
   "id": "ece05cb3",
   "metadata": {},
   "source": [
    "Write a Python Program to find largest element in an array?"
   ]
  },
  {
   "cell_type": "code",
   "execution_count": 19,
   "id": "d93168fa",
   "metadata": {},
   "outputs": [
    {
     "name": "stdout",
     "output_type": "stream",
     "text": [
      "93\n"
     ]
    }
   ],
   "source": [
    "array = [21,12,32,14,52,33,61,88,93,45,29]\n",
    "max = array[0]\n",
    "for i in range(0,len(array)):\n",
    "    if array[i] > max:\n",
    "        max = array[i]\n",
    "print(max)"
   ]
  },
  {
   "cell_type": "markdown",
   "id": "30a44096",
   "metadata": {},
   "source": [
    "Write a Python Program for array rotation?\n"
   ]
  },
  {
   "cell_type": "code",
   "execution_count": 22,
   "id": "9b615bf6",
   "metadata": {},
   "outputs": [
    {
     "name": "stdout",
     "output_type": "stream",
     "text": [
      "Enter the array : [3,24,54,21,6,9,12,18]\n",
      "Rotation of an array is [3, 24, 54, 21, 6, 9, 12, 18] is [18, 12, 9, 6, 21, 54, 24, 3]\n"
     ]
    }
   ],
   "source": [
    "def arr_rotate():\n",
    "    arr = eval(input(\"Enter the array : \"))\n",
    "    print(f'Rotation of an array is {arr} is {arr[::-1]}')\n",
    "arr_rotate()"
   ]
  },
  {
   "cell_type": "markdown",
   "id": "0cd2c3b8",
   "metadata": {},
   "source": [
    "Write a Python Program to Split the array and add the first part to the end?\n"
   ]
  },
  {
   "cell_type": "code",
   "execution_count": 2,
   "id": "312531ab",
   "metadata": {},
   "outputs": [
    {
     "name": "stdout",
     "output_type": "stream",
     "text": [
      "Enter an array : [4,7,12,8,21,4,6,7]\n",
      "Splitting an array and adding the first part to the end [4, 7, 12, 8, 21, 4, 6, 7] is 11\n"
     ]
    }
   ],
   "source": [
    "def split_Arr():\n",
    "    arr = eval(input(\"Enter an array : \"))\n",
    "    print(f'Splitting an array and adding the first part to the end {arr} is {arr[-1]+arr[0]}')\n",
    "split_Arr()"
   ]
  },
  {
   "cell_type": "markdown",
   "id": "c0754349",
   "metadata": {},
   "source": [
    "Write a Python Program to check if given array is Monotonic?"
   ]
  },
  {
   "cell_type": "code",
   "execution_count": 7,
   "id": "6c3e7ec6",
   "metadata": {},
   "outputs": [
    {
     "name": "stdout",
     "output_type": "stream",
     "text": [
      "Enter an array : [3,12,4,16,2,11,9]\n",
      "Array [3, 12, 4, 16, 2, 11, 9] is Not Monotonic\n"
     ]
    }
   ],
   "source": [
    "def monotonic():\n",
    "    arr = eval(input(\"Enter an array : \"))\n",
    "    if(all(arr[i]<=arr[i+1] for i in range(len(arr)-1)) or all(arr[i]>=arr[i+1] for i in range(len(arr)-1))):\n",
    "        print(f'Array {arr} is Monotonic')\n",
    "    else:\n",
    "        print(f'Array {arr} is Not Monotonic')\n",
    "\n",
    "monotonic()"
   ]
  },
  {
   "cell_type": "code",
   "execution_count": null,
   "id": "b0844449",
   "metadata": {},
   "outputs": [],
   "source": []
  }
 ],
 "metadata": {
  "kernelspec": {
   "display_name": "Python 3 (ipykernel)",
   "language": "python",
   "name": "python3"
  },
  "language_info": {
   "codemirror_mode": {
    "name": "ipython",
    "version": 3
   },
   "file_extension": ".py",
   "mimetype": "text/x-python",
   "name": "python",
   "nbconvert_exporter": "python",
   "pygments_lexer": "ipython3",
   "version": "3.9.7"
  }
 },
 "nbformat": 4,
 "nbformat_minor": 5
}
