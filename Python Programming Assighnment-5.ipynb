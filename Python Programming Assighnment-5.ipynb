{
 "cells": [
  {
   "cell_type": "markdown",
   "id": "9805a35b",
   "metadata": {},
   "source": [
    "Write a Python Program to Find LCM?"
   ]
  },
  {
   "cell_type": "code",
   "execution_count": 1,
   "id": "a276a705",
   "metadata": {},
   "outputs": [
    {
     "name": "stdout",
     "output_type": "stream",
     "text": [
      "Enter the value of x : 12\n",
      "Enter the value of y : 26\n",
      "156\n",
      "L.C.M of two numbers is 156\n"
     ]
    }
   ],
   "source": [
    "x = int(input(\"Enter the value of x : \"))\n",
    "y = int(input(\"Enter the value of y : \"))\n",
    "if x > y:\n",
    "    greater = x\n",
    "else:\n",
    "    greater = y\n",
    "while True:\n",
    "    if greater%x ==0 and greater%y==0:\n",
    "        print(greater)\n",
    "        break;\n",
    "    greater = greater +1\n",
    "print(f'L.C.M of two numbers is {greater}')"
   ]
  },
  {
   "cell_type": "markdown",
   "id": "3c5df944",
   "metadata": {},
   "source": [
    "Write a Python Program to Find HCF?"
   ]
  },
  {
   "cell_type": "code",
   "execution_count": 2,
   "id": "c00a2819",
   "metadata": {},
   "outputs": [
    {
     "name": "stdout",
     "output_type": "stream",
     "text": [
      "HCF of 50 and 100 is: 50\n"
     ]
    }
   ],
   "source": [
    "x = 50\n",
    "y = 100\n",
    "if x > y:\n",
    "  x, y = y, x\n",
    "for i in range(1,x+1):\n",
    "  if x%i == 0 and y%i == 0:\n",
    "    hcf = i\n",
    "\n",
    "print(\"HCF of\", x, \"and\", y, \"is:\", hcf)"
   ]
  },
  {
   "cell_type": "markdown",
   "id": "431829f3",
   "metadata": {},
   "source": [
    "Write a Python Program to Convert Decimal to Binary, Octal and Hexadecimal?"
   ]
  },
  {
   "cell_type": "code",
   "execution_count": 7,
   "id": "0a8f4a0a",
   "metadata": {},
   "outputs": [
    {
     "name": "stdout",
     "output_type": "stream",
     "text": [
      "Enter the decimal number : 579\n",
      "Binary conversion of decimal number 579 is 0b1001000011\n",
      "Octal conversion of decimal number 579 is 0o1103\n",
      "Hexadecimal conversion of decimal number 579 is 0x243\n"
     ]
    }
   ],
   "source": [
    "x = int(input(\"Enter the decimal number : \"))\n",
    "### To convert the decimal numbers into Binary,Octal and Hexadecimal numbers.\n",
    "a = bin(x)\n",
    "b = oct(x)\n",
    "c = hex(x)\n",
    "print(f'Binary conversion of decimal number {x} is {a}')\n",
    "print(f'Octal conversion of decimal number {x} is {b}')\n",
    "print(f'Hexadecimal conversion of decimal number {x} is {c}')"
   ]
  },
  {
   "cell_type": "markdown",
   "id": "02726442",
   "metadata": {},
   "source": [
    "Write a Python Program To Find ASCII value of a character?"
   ]
  },
  {
   "cell_type": "code",
   "execution_count": 10,
   "id": "38f6d9bd",
   "metadata": {},
   "outputs": [
    {
     "name": "stdout",
     "output_type": "stream",
     "text": [
      "Enter any character : A\n",
      "The ASCII value of a character is 65\n"
     ]
    }
   ],
   "source": [
    "x = str(input(\"Enter any character : \"))\n",
    "print(\"The ASCII value of a character is\", ord(x))"
   ]
  },
  {
   "cell_type": "markdown",
   "id": "0bbd2eb7",
   "metadata": {},
   "source": [
    "Write a Python Program to Make a Simple Calculator with 4 basic mathematical operations?"
   ]
  },
  {
   "cell_type": "code",
   "execution_count": null,
   "id": "83d89838",
   "metadata": {},
   "outputs": [
    {
     "name": "stdout",
     "output_type": "stream",
     "text": [
      "Select  your option : \n",
      "1.Add\n",
      "2.Subtraction\n",
      "3.Multiplication\n",
      "4.Division\n",
      "Enter your option :1\n",
      "Enter the value of x : 6\n",
      "Enter the value of y : 3\n",
      "x + y = 9\n",
      "Enter your option :2\n",
      "Enter the value of x : 9\n",
      "Enter the value of y : 5\n",
      "x - y = 4\n",
      "Enter your option :9\n",
      "Enter the value of x : 12\n",
      "Enter the value of y : 5\n",
      "Invalid option\n",
      "Enter your option :3\n",
      "Enter the value of x : 9\n",
      "Enter the value of y : 7\n",
      "x * y = 63\n",
      "Enter your option :4\n",
      "Enter the value of x : 36\n",
      "Enter the value of y : 12\n",
      "x / y = 3.0\n",
      "Enter your option :5\n",
      "Enter the value of x : 84\n",
      "Enter the value of y : 34\n",
      "Invalid option\n"
     ]
    }
   ],
   "source": [
    "def add(x,y):\n",
    "    return x+y\n",
    "def subtract(x,y):\n",
    "    return x-y\n",
    "def multiply(x,y):\n",
    "    return x*y\n",
    "def division(x,y):\n",
    "    return x/y\n",
    "print(\"Select  your option : \")\n",
    "print(\"1.Add\")\n",
    "print(\"2.Subtraction\")\n",
    "print(\"3.Multiplication\")\n",
    "print(\"4.Division\")\n",
    "while True:\n",
    "    choice = int(input(\"Enter your option :\"  ))\n",
    "    x = int(input(\"Enter the value of x : \"  ))\n",
    "    y = int(input(\"Enter the value of y : \"  ))\n",
    "    if choice == 1:\n",
    "        print('x','+','y','=',add(x,y))\n",
    "    elif choice == 2:\n",
    "        print('x','-','y','=',subtract(x,y))\n",
    "    elif choice == 3:\n",
    "        print('x','*','y','=',multiply(x,y))\n",
    "    elif choice == 4:\n",
    "        print('x','/','y','=',division(x,y))\n",
    "    else:\n",
    "        print(\"Invalid option\")   "
   ]
  },
  {
   "cell_type": "code",
   "execution_count": null,
   "id": "3481b423",
   "metadata": {},
   "outputs": [],
   "source": []
  }
 ],
 "metadata": {
  "kernelspec": {
   "display_name": "Python 3 (ipykernel)",
   "language": "python",
   "name": "python3"
  },
  "language_info": {
   "codemirror_mode": {
    "name": "ipython",
    "version": 3
   },
   "file_extension": ".py",
   "mimetype": "text/x-python",
   "name": "python",
   "nbconvert_exporter": "python",
   "pygments_lexer": "ipython3",
   "version": "3.9.7"
  }
 },
 "nbformat": 4,
 "nbformat_minor": 5
}
