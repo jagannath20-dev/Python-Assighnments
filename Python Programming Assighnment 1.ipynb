{
 "cells": [
  {
   "cell_type": "markdown",
   "id": "b6c72c57",
   "metadata": {},
   "source": [
    "# write a Python program to print \"Hello Python\"?"
   ]
  },
  {
   "cell_type": "code",
   "execution_count": 2,
   "id": "9668d8a6",
   "metadata": {},
   "outputs": [
    {
     "name": "stdout",
     "output_type": "stream",
     "text": [
      "Hello Python\n"
     ]
    }
   ],
   "source": [
    "print(\"Hello Python\")"
   ]
  },
  {
   "cell_type": "markdown",
   "id": "ec457fca",
   "metadata": {},
   "source": [
    "# Write a Python program to do arithmetical operations addition and division.?"
   ]
  },
  {
   "cell_type": "code",
   "execution_count": 7,
   "id": "0bad88aa",
   "metadata": {},
   "outputs": [
    {
     "name": "stdout",
     "output_type": "stream",
     "text": [
      "Enter Number1 200\n",
      "Enter Number220\n",
      "220\n",
      "10.0\n"
     ]
    }
   ],
   "source": [
    "x = int(input(\"Enter Number1\"))\n",
    "y = int(input(\"Enter Number2\"))\n",
    "z = x+y\n",
    "u = x/y\n",
    "print(z)\n",
    "print(u)"
   ]
  },
  {
   "cell_type": "markdown",
   "id": "0937c5c6",
   "metadata": {},
   "source": [
    "# Write a Python program to find the area of a triangle?"
   ]
  },
  {
   "cell_type": "code",
   "execution_count": 11,
   "id": "18555542",
   "metadata": {},
   "outputs": [
    {
     "name": "stdout",
     "output_type": "stream",
     "text": [
      "Enter any number1  6\n",
      "Enter any number2 12\n",
      "Area_of_a_Triangle is 36.0\n"
     ]
    }
   ],
   "source": [
    "base = int(input(\"Enter any number1\"))\n",
    "height = int(input(\"Enter any number2\"))\n",
    "Area_of_a_Triangle = 1/2*base*height\n",
    "print(f'Area_of_a_Triangle is {Area_of_a_Triangle}')"
   ]
  },
  {
   "cell_type": "markdown",
   "id": "f5fe5ca8",
   "metadata": {},
   "source": [
    "# Write a Python program to swap two variables?"
   ]
  },
  {
   "cell_type": "code",
   "execution_count": 12,
   "id": "faad8b7b",
   "metadata": {},
   "outputs": [
    {
     "name": "stdout",
     "output_type": "stream",
     "text": [
      "Enter value of x:  10\n",
      "Enter value of y: 20\n",
      "The value of x after swapping: 20\n",
      "The value of y after swapping:  10\n"
     ]
    }
   ],
   "source": [
    "x = input('Enter value of x: ')\n",
    "y = input('Enter value of y: ')\n",
    "temp = x\n",
    "x = y\n",
    "y = temp\n",
    "print('The value of x after swapping: {}'.format(x))\n",
    "print('The value of y after swapping: {}'.format(y))"
   ]
  },
  {
   "cell_type": "markdown",
   "id": "169712ca",
   "metadata": {},
   "source": [
    "# Write a Python program to generate a random number?"
   ]
  },
  {
   "cell_type": "code",
   "execution_count": 19,
   "id": "216f8341",
   "metadata": {},
   "outputs": [
    {
     "name": "stdout",
     "output_type": "stream",
     "text": [
      "8\n",
      "118\n",
      "224\n"
     ]
    }
   ],
   "source": [
    "import random\n",
    "x = random.randint(0,9)\n",
    "y = random.randint(100,125)\n",
    "z = random.randint(200,300)\n",
    "print(x)\n",
    "print(y)\n",
    "print(z)"
   ]
  },
  {
   "cell_type": "code",
   "execution_count": null,
   "id": "81a87590",
   "metadata": {},
   "outputs": [],
   "source": []
  }
 ],
 "metadata": {
  "kernelspec": {
   "display_name": "Python 3 (ipykernel)",
   "language": "python",
   "name": "python3"
  },
  "language_info": {
   "codemirror_mode": {
    "name": "ipython",
    "version": 3
   },
   "file_extension": ".py",
   "mimetype": "text/x-python",
   "name": "python",
   "nbconvert_exporter": "python",
   "pygments_lexer": "ipython3",
   "version": "3.9.7"
  }
 },
 "nbformat": 4,
 "nbformat_minor": 5
}
