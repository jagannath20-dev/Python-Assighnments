{
  "nbformat": 4,
  "nbformat_minor": 0,
  "metadata": {
    "colab": {
      "provenance": []
    },
    "kernelspec": {
      "name": "python3",
      "display_name": "Python 3"
    },
    "language_info": {
      "name": "python"
    }
  },
  "cells": [
    {
      "cell_type": "markdown",
      "source": [
        "Question1. Write a function that stutters a word as if someone is struggling to read it. The\n",
        "first two letters are repeated twice with an ellipsis ... and space after each, and then the\n",
        "word is pronounced with a question mark ?."
      ],
      "metadata": {
        "id": "vq05lkb1lt-K"
      }
    },
    {
      "cell_type": "markdown",
      "source": [
        "Examples\n",
        "stutter(&quot;incredible&quot;) ➞ &quot;in... in... incredible?&quot;\n",
        "stutter(&quot;enthusiastic&quot;) ➞ &quot;en... en... enthusiastic?&quot;\n",
        "stutter(&quot;outstanding&quot;) ➞ &quot;ou... ou... outstanding?&quot;"
      ],
      "metadata": {
        "id": "ZR2qvlUcmGow"
      }
    },
    {
      "cell_type": "code",
      "execution_count": 2,
      "metadata": {
        "colab": {
          "base_uri": "https://localhost:8080/",
          "height": 53
        },
        "id": "jfLDZHt2kAEk",
        "outputId": "655f8c0d-3a7a-498f-d496-ca01a459c77f"
      },
      "outputs": [
        {
          "name": "stdout",
          "output_type": "stream",
          "text": [
            "Enter any Word : incredible\n"
          ]
        },
        {
          "output_type": "execute_result",
          "data": {
            "text/plain": [
              "'inc.....inc.....incredible ? '"
            ],
            "application/vnd.google.colaboratory.intrinsic+json": {
              "type": "string"
            }
          },
          "metadata": {},
          "execution_count": 2
        }
      ],
      "source": [
        "def shutter():\n",
        "  s = word[:3]\n",
        "  return (2 * (s + \".....\")) + word + \" ? \"\n",
        "\n",
        "### Driver Code\n",
        "word = input(\"Enter any Word : \")\n",
        "shutter()"
      ]
    },
    {
      "cell_type": "markdown",
      "source": [
        "Question 2.Create a function that takes an angle in radians and returns the corresponding\n",
        "angle in degrees rounded to one decimal place.\n",
        "Examples\n",
        "radians_to_degrees(1) ➞ 57.3\n",
        "radians_to_degrees(20) ➞ 1145.9\n",
        "radians_to_degrees(50) ➞ 2864.8"
      ],
      "metadata": {
        "id": "Cy05NwrJoi28"
      }
    },
    {
      "cell_type": "code",
      "source": [
        "def radians_to_degrees():\n",
        "  pi = 3.14159\n",
        "  ## Formula \n",
        "  degree = radian * (180/pi)\n",
        "  return degree\n",
        "\n",
        "## Driver Code\n",
        "radian = float(input(\"Enter the Number of Radians : \"))\n",
        "print(\"degree = \", radians_to_degrees())"
      ],
      "metadata": {
        "colab": {
          "base_uri": "https://localhost:8080/"
        },
        "id": "ybg37gxPoIwS",
        "outputId": "1e9a5618-3ad9-4aa9-c5bc-74a078e5c949"
      },
      "execution_count": 8,
      "outputs": [
        {
          "output_type": "stream",
          "name": "stdout",
          "text": [
            "Enter the Number of Radians : 5\n",
            "degree =  286.4791395439889\n"
          ]
        }
      ]
    },
    {
      "cell_type": "markdown",
      "source": [
        "Question 3. In this challenge, establish if a given integer num is a Curzon number. If 1 plus\n",
        "2 elevated to num is exactly divisible by 1 plus 2 multiplied by num, then num is a Curzon\n",
        "number.\n",
        "Given a non-negative integer num, implement a function that returns True if num is a Curzon\n",
        "number, or False otherwise.\n",
        "Examples\n",
        "is_curzon(5) ➞ True\n",
        "# 2 ** 5 + 1 = 33\n",
        "# 2 * 5 + 1 = 11\n",
        "# 33 is a multiple of 11\n",
        "is_curzon(10) ➞ False\n",
        "# 2 ** 10 + 1 = 1025\n",
        "# 2 * 10 + 1 = 21\n",
        "# 1025 is not a multiple of 21\n",
        "is_curzon(14) ➞ True\n",
        "# 2 ** 14 + 1 = 16385\n",
        "# 2 * 14 + 1 = 29\n",
        "# 16385 is a multiple of 29"
      ],
      "metadata": {
        "id": "z9Cr4EiJrPwf"
      }
    },
    {
      "cell_type": "code",
      "source": [
        "def is_curzon_number():\n",
        "  sum1 = 2**N + 1\n",
        "  sum2 = 2*N + 1\n",
        "  res = sum1/sum2\n",
        "  if res != 0:\n",
        "    print(f'{sum1} is Not Multiple of {sum2}')\n",
        "  else:\n",
        "    return res\n",
        "\n",
        "## Driver Code\n",
        "N = int(input(\"Enter the number : \"))\n",
        "is_curzon_number()"
      ],
      "metadata": {
        "colab": {
          "base_uri": "https://localhost:8080/"
        },
        "id": "6d02gmumqOY2",
        "outputId": "b78c9c5d-0077-41c5-f188-7fe3e99d2f58"
      },
      "execution_count": 17,
      "outputs": [
        {
          "output_type": "stream",
          "name": "stdout",
          "text": [
            "Enter the number : 10\n",
            "1025 is Not Multiple of 21\n"
          ]
        }
      ]
    },
    {
      "cell_type": "code",
      "source": [
        "def is_curzon():\n",
        "  sum1 = num1**N + 1\n",
        "  print(f'{num1}^{N} is {sum1}')\n",
        "  sum2 = num1*N+1\n",
        "  print(f'{num1}*{N} = {sum2}')\n",
        "  res = sum1/sum2\n",
        "  if sum1%sum2 != 0:\n",
        "    print(f'{sum1} is Not Multiple {sum2}')\n",
        "  else:\n",
        "    print(f'{sum1} is  Multiple of  {sum2}')\n",
        "##Driver Code\n",
        "num1 = int(input(\"Enter the base number : \"))\n",
        "N = int(input(\"Enter the exponent number : \"))\n",
        "is_curzon()"
      ],
      "metadata": {
        "colab": {
          "base_uri": "https://localhost:8080/"
        },
        "id": "bBBY9tIWvTKT",
        "outputId": "a0f6938c-1e6e-4130-a389-26a25d812983"
      },
      "execution_count": 22,
      "outputs": [
        {
          "output_type": "stream",
          "name": "stdout",
          "text": [
            "Enter the base number : 2\n",
            "Enter the exponent number : 10\n",
            "2^10 is 1025\n",
            "2*10 = 21\n",
            "1025 is Not Multiple 21\n"
          ]
        }
      ]
    },
    {
      "cell_type": "code",
      "source": [
        "def is_curzon():\n",
        "  sum1 = num1**N + 1\n",
        "  print(f'{num1}^{N} is {sum1}')\n",
        "  sum2 = num1*N+1\n",
        "  print(f'{num1}*{N} = {sum2}')\n",
        "  res = sum1/sum2\n",
        "  if sum1%sum2 != 0:\n",
        "    print(f'{sum1} is Not Multiple of {sum2}')\n",
        "  else:\n",
        "    print(f'{sum1} is  Multiple of  {sum2}')\n",
        "##Driver Code\n",
        "num1 = int(input(\"Enter the base number : \"))\n",
        "N = int(input(\"Enter the exponent number : \"))\n",
        "is_curzon()"
      ],
      "metadata": {
        "colab": {
          "base_uri": "https://localhost:8080/"
        },
        "id": "ve1KhXnkxqc-",
        "outputId": "0c17c041-1969-433f-d55d-be504df73cd1"
      },
      "execution_count": 23,
      "outputs": [
        {
          "output_type": "stream",
          "name": "stdout",
          "text": [
            "Enter the base number : 2\n",
            "Enter the exponent number : 14\n",
            "2^14 is 16385\n",
            "2*14 = 29\n",
            "16385 is  Multiple of  29\n"
          ]
        }
      ]
    },
    {
      "cell_type": "markdown",
      "source": [
        "Question 4.Given the side length x find the area of a hexagon."
      ],
      "metadata": {
        "id": "-O1-v-c1yXrE"
      }
    },
    {
      "cell_type": "markdown",
      "source": [
        "Examples\n",
        "area_of_hexagon(1) ➞ 2.6\n",
        "area_of_hexagon(2) ➞ 10.4\n",
        "area_of_hexagon(3) ➞ 23.4"
      ],
      "metadata": {
        "id": "Drru6hrdybwg"
      }
    },
    {
      "cell_type": "code",
      "source": [
        "from math import sqrt\n",
        "def area_of_a_hexagon():\n",
        "  a = (3*sqrt(3)*side**2)/2\n",
        "  return a\n",
        "### Driver Code\n",
        "side = int(input(\"Enter any number : \"))\n",
        "area_of_a_hexagon()"
      ],
      "metadata": {
        "colab": {
          "base_uri": "https://localhost:8080/"
        },
        "id": "uzXENL50x07N",
        "outputId": "b1b52d47-4689-4049-f579-f791a131bbe7"
      },
      "execution_count": 25,
      "outputs": [
        {
          "name": "stdout",
          "output_type": "stream",
          "text": [
            "Enter any number : 2\n"
          ]
        },
        {
          "output_type": "execute_result",
          "data": {
            "text/plain": [
              "10.392304845413264"
            ]
          },
          "metadata": {},
          "execution_count": 25
        }
      ]
    },
    {
      "cell_type": "code",
      "source": [
        "from math import sqrt\n",
        "def area_of_a_hexagon():\n",
        "  a = (3*sqrt(3)*side**2)/2\n",
        "  return a\n",
        "### Driver Code\n",
        "side = int(input(\"Enter any number : \"))\n",
        "area_of_a_hexagon()"
      ],
      "metadata": {
        "colab": {
          "base_uri": "https://localhost:8080/"
        },
        "id": "_j9WyMB66UN9",
        "outputId": "8a2bf6b7-9b0e-4423-d376-78e6c01eac49"
      },
      "execution_count": 26,
      "outputs": [
        {
          "name": "stdout",
          "output_type": "stream",
          "text": [
            "Enter any number : 3\n"
          ]
        },
        {
          "output_type": "execute_result",
          "data": {
            "text/plain": [
              "23.382685902179844"
            ]
          },
          "metadata": {},
          "execution_count": 26
        }
      ]
    },
    {
      "cell_type": "markdown",
      "source": [
        "Question 5. Create a function that returns a base-2 (binary) representation of a base-10\n",
        "(decimal) string number. To convert is simple: ((2) means base-2 and (10) means base-10)\n",
        "010101001(2) = 1 + 8 + 32 + 128.\n",
        "Going from right to left, the value of the most right bit is 1, now from that every bit to the left\n",
        "will be x2 the value, value of an 8 bit binary numbers are (256, 128, 64, 32, 16, 8, 4, 2, 1).\n",
        "Examples\n",
        "binary(1) ➞ &quot;1&quot;\n",
        "# 1*1 = 1\n",
        "binary(5) ➞ &quot;101&quot;\n",
        "# 1*1 + 1*4 = 5\n",
        "binary(10) ➞ &quot;1010&quot;\n",
        "# 1*2 + 1*8 = 10"
      ],
      "metadata": {
        "id": "YMHIl0z06rVd"
      }
    },
    {
      "cell_type": "code",
      "source": [
        "def decimalToBinary(n):\n",
        "    return bin(n).replace(\"0b\", \"\")\n",
        "   \n",
        "for i in range(0,50):\n",
        "    print(decimalToBinary(i))"
      ],
      "metadata": {
        "colab": {
          "base_uri": "https://localhost:8080/"
        },
        "id": "d6WjNfF66muS",
        "outputId": "cc35f1b1-1b2e-442a-c6dd-e2753260703d"
      },
      "execution_count": 27,
      "outputs": [
        {
          "output_type": "stream",
          "name": "stdout",
          "text": [
            "0\n",
            "1\n",
            "10\n",
            "11\n",
            "100\n",
            "101\n",
            "110\n",
            "111\n",
            "1000\n",
            "1001\n",
            "1010\n",
            "1011\n",
            "1100\n",
            "1101\n",
            "1110\n",
            "1111\n",
            "10000\n",
            "10001\n",
            "10010\n",
            "10011\n",
            "10100\n",
            "10101\n",
            "10110\n",
            "10111\n",
            "11000\n",
            "11001\n",
            "11010\n",
            "11011\n",
            "11100\n",
            "11101\n",
            "11110\n",
            "11111\n",
            "100000\n",
            "100001\n",
            "100010\n",
            "100011\n",
            "100100\n",
            "100101\n",
            "100110\n",
            "100111\n",
            "101000\n",
            "101001\n",
            "101010\n",
            "101011\n",
            "101100\n",
            "101101\n",
            "101110\n",
            "101111\n",
            "110000\n",
            "110001\n"
          ]
        }
      ]
    },
    {
      "cell_type": "code",
      "source": [],
      "metadata": {
        "id": "Pckce8Ea7DyL"
      },
      "execution_count": null,
      "outputs": []
    }
  ]
}