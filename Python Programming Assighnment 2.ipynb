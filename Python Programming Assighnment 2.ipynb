{
 "cells": [
  {
   "cell_type": "markdown",
   "id": "a49c9a98",
   "metadata": {},
   "source": [
    "# Write a Python program to convert kilometers to miles?"
   ]
  },
  {
   "cell_type": "code",
   "execution_count": 2,
   "id": "4cf34686",
   "metadata": {},
   "outputs": [
    {
     "name": "stdout",
     "output_type": "stream",
     "text": [
      "Enter the value of kilometers : 250\n",
      "Enter the value of one Mile : 1.60934\n",
      "Miles is 155.34318416245168\n"
     ]
    }
   ],
   "source": [
    "### Conversion of Kilometers into Miles\n",
    "### 1 Mile = 1.60934\n",
    "x = float(input(\"Enter the value of kilometers : \"))\n",
    "Mile = float(input(\"Enter the value of one Mile : \"))\n",
    "Conversion_of_Kilometers_into_Miles = x/Mile\n",
    "print(f'Miles is {Conversion_of_Kilometers_into_Miles}')"
   ]
  },
  {
   "cell_type": "markdown",
   "id": "c79148cb",
   "metadata": {},
   "source": [
    "# Write a Python program to convert Celsius to Fahrenheit?\n"
   ]
  },
  {
   "cell_type": "code",
   "execution_count": 8,
   "id": "304e5f40",
   "metadata": {},
   "outputs": [
    {
     "name": "stdout",
     "output_type": "stream",
     "text": [
      "Enter the value of Celsius : 12\n",
      "Enter the value of Celsius : 3.5\n",
      "Fahrenheit is 53.6\n",
      "Fahrenheit is 38.3\n"
     ]
    }
   ],
   "source": [
    "### Conversion of Celsius to Fahrenheit\n",
    "### One Celsius = 33.8 Fahrenheit\n",
    "### Formula (0°C × 9/5) + 32 = 32°F\n",
    "x = int(input(\"Enter the value of Celsius : \"))\n",
    "y = float(input(\"Enter the value of Celsius : \"))\n",
    "Conversion_of_Celsius_to_Fahrenheit1 = (x * 9/5) + 32\n",
    "Conversion_of_Celsius_to_Fahrenheit2 = (y * 9/5) + 32\n",
    "print(f'Fahrenheit is {Conversion_of_Celsius_to_Fahrenheit1}')\n",
    "print(f'Fahrenheit is {Conversion_of_Celsius_to_Fahrenheit2}')"
   ]
  },
  {
   "cell_type": "markdown",
   "id": "337f541d",
   "metadata": {},
   "source": [
    "# Write a Python program to display calendar?\n"
   ]
  },
  {
   "cell_type": "code",
   "execution_count": 10,
   "id": "feb3d3c6",
   "metadata": {},
   "outputs": [
    {
     "name": "stdout",
     "output_type": "stream",
     "text": [
      "Enter the year : 2022\n",
      "Enter the month : 3\n",
      "     March 2022\n",
      "Mo Tu We Th Fr Sa Su\n",
      "    1  2  3  4  5  6\n",
      " 7  8  9 10 11 12 13\n",
      "14 15 16 17 18 19 20\n",
      "21 22 23 24 25 26 27\n",
      "28 29 30 31\n",
      "\n"
     ]
    }
   ],
   "source": [
    "import calendar\n",
    "year = int(input(\"Enter the year : \"))\n",
    "month = int(input(\"Enter the month : \"))\n",
    "print(calendar.month(year,month))\n"
   ]
  },
  {
   "cell_type": "code",
   "execution_count": 12,
   "id": "49324e59",
   "metadata": {},
   "outputs": [
    {
     "name": "stdout",
     "output_type": "stream",
     "text": [
      "Enter the Year : 2022\n",
      "                                  2022\n",
      "\n",
      "      January                   February                   March\n",
      "Mo Tu We Th Fr Sa Su      Mo Tu We Th Fr Sa Su      Mo Tu We Th Fr Sa Su\n",
      "                1  2          1  2  3  4  5  6          1  2  3  4  5  6\n",
      " 3  4  5  6  7  8  9       7  8  9 10 11 12 13       7  8  9 10 11 12 13\n",
      "10 11 12 13 14 15 16      14 15 16 17 18 19 20      14 15 16 17 18 19 20\n",
      "17 18 19 20 21 22 23      21 22 23 24 25 26 27      21 22 23 24 25 26 27\n",
      "24 25 26 27 28 29 30      28                        28 29 30 31\n",
      "31\n",
      "\n",
      "       April                      May                       June\n",
      "Mo Tu We Th Fr Sa Su      Mo Tu We Th Fr Sa Su      Mo Tu We Th Fr Sa Su\n",
      "             1  2  3                         1             1  2  3  4  5\n",
      " 4  5  6  7  8  9 10       2  3  4  5  6  7  8       6  7  8  9 10 11 12\n",
      "11 12 13 14 15 16 17       9 10 11 12 13 14 15      13 14 15 16 17 18 19\n",
      "18 19 20 21 22 23 24      16 17 18 19 20 21 22      20 21 22 23 24 25 26\n",
      "25 26 27 28 29 30         23 24 25 26 27 28 29      27 28 29 30\n",
      "                          30 31\n",
      "\n",
      "        July                     August                  September\n",
      "Mo Tu We Th Fr Sa Su      Mo Tu We Th Fr Sa Su      Mo Tu We Th Fr Sa Su\n",
      "             1  2  3       1  2  3  4  5  6  7                1  2  3  4\n",
      " 4  5  6  7  8  9 10       8  9 10 11 12 13 14       5  6  7  8  9 10 11\n",
      "11 12 13 14 15 16 17      15 16 17 18 19 20 21      12 13 14 15 16 17 18\n",
      "18 19 20 21 22 23 24      22 23 24 25 26 27 28      19 20 21 22 23 24 25\n",
      "25 26 27 28 29 30 31      29 30 31                  26 27 28 29 30\n",
      "\n",
      "      October                   November                  December\n",
      "Mo Tu We Th Fr Sa Su      Mo Tu We Th Fr Sa Su      Mo Tu We Th Fr Sa Su\n",
      "                1  2          1  2  3  4  5  6                1  2  3  4\n",
      " 3  4  5  6  7  8  9       7  8  9 10 11 12 13       5  6  7  8  9 10 11\n",
      "10 11 12 13 14 15 16      14 15 16 17 18 19 20      12 13 14 15 16 17 18\n",
      "17 18 19 20 21 22 23      21 22 23 24 25 26 27      19 20 21 22 23 24 25\n",
      "24 25 26 27 28 29 30      28 29 30                  26 27 28 29 30 31\n",
      "31\n",
      "\n"
     ]
    }
   ],
   "source": [
    "### To Import Year Calendar\n",
    "import calendar\n",
    "year = int(input(\"Enter the Year : \"))\n",
    "print(calendar.calendar(year))"
   ]
  },
  {
   "cell_type": "markdown",
   "id": "92629a4d",
   "metadata": {},
   "source": [
    "# Write a Python program to solve quadratic equation?"
   ]
  },
  {
   "cell_type": "code",
   "execution_count": 13,
   "id": "2ebd72cf",
   "metadata": {},
   "outputs": [
    {
     "name": "stdout",
     "output_type": "stream",
     "text": [
      "Enter the value of a : 6\n",
      "Enter the value of b : 11\n",
      "Enter the value of c : -35\n",
      "The solutions are (-3.5+0j) and (1.6666666666666667+0j)\n"
     ]
    }
   ],
   "source": [
    "### To Solve Quadratic Equation of 6x² + 11x - 35 = 0\n",
    "### Here a = 6, b = 11, c = -35\n",
    "### To Perform Mathematical Calculations we need to import cmath Module\n",
    "import cmath\n",
    "a = int(input(\"Enter the value of a : \"))\n",
    "b = int(input(\"Enter the value of b : \"))\n",
    "c = int(input(\"Enter the value of c : \"))\n",
    "d = (b**2)-(4*a*c)\n",
    "sol1 = (-b-cmath.sqrt(d))/(2*a)\n",
    "sol2 = (-b+cmath.sqrt(d))/(2*a)\n",
    "x = print(f'The solutions are {sol1} and {sol2}')"
   ]
  },
  {
   "cell_type": "markdown",
   "id": "e6c416bc",
   "metadata": {},
   "source": [
    "# Write a Python program to swap two variables without temp variable?"
   ]
  },
  {
   "cell_type": "code",
   "execution_count": 17,
   "id": "9d17fc48",
   "metadata": {},
   "outputs": [
    {
     "name": "stdout",
     "output_type": "stream",
     "text": [
      "Enter the value of x : 20\n",
      "Enter the value of y : 10\n",
      "x = 30\n",
      "y = 10\n",
      "x1 = 10\n"
     ]
    }
   ],
   "source": [
    "x = int(input(\"Enter the value of x : \"))\n",
    "y = int(input(\"Enter the value of y : \"))\n",
    "x1 = x + y\n",
    "y1 = x - y\n",
    "x2 = x - y\n",
    "print(\"x =\", x1)\n",
    "print(\"y =\", y1)\n",
    "print(\"x1 =\", x2)"
   ]
  },
  {
   "cell_type": "code",
   "execution_count": null,
   "id": "50eb549c",
   "metadata": {},
   "outputs": [],
   "source": []
  }
 ],
 "metadata": {
  "kernelspec": {
   "display_name": "Python 3 (ipykernel)",
   "language": "python",
   "name": "python3"
  },
  "language_info": {
   "codemirror_mode": {
    "name": "ipython",
    "version": 3
   },
   "file_extension": ".py",
   "mimetype": "text/x-python",
   "name": "python",
   "nbconvert_exporter": "python",
   "pygments_lexer": "ipython3",
   "version": "3.9.7"
  }
 },
 "nbformat": 4,
 "nbformat_minor": 5
}
