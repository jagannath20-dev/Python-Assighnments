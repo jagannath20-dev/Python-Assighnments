{
 "cells": [
  {
   "cell_type": "markdown",
   "id": "0a075685",
   "metadata": {},
   "source": [
    "Write a Python program to find words which are greater than given length k?"
   ]
  },
  {
   "cell_type": "code",
   "execution_count": 2,
   "id": "63a2b3d8",
   "metadata": {},
   "outputs": [
    {
     "name": "stdout",
     "output_type": "stream",
     "text": [
      "Enter the string : My Name is Devarakonda Jagannath\n",
      "Enter the length of the string : 3\n",
      "Name,Devarakonda,Jagannath\n"
     ]
    }
   ],
   "source": [
    "def string_greater_than_k():\n",
    "    str_1 = input(\"Enter the string : \")\n",
    "    str_len = int(input(\"Enter the length of the string : \"))\n",
    "    output_str = []\n",
    "    for string in str_1.split(\" \"):\n",
    "        if len(string)>str_len:\n",
    "            output_str.append(string)\n",
    "    print(','.join(output_str))\n",
    "string_greater_than_k()"
   ]
  },
  {
   "cell_type": "markdown",
   "id": "8cd510bc",
   "metadata": {},
   "source": [
    "Write a Python program for removing i-th character from a string?"
   ]
  },
  {
   "cell_type": "code",
   "execution_count": 9,
   "id": "bd3de0e2",
   "metadata": {},
   "outputs": [
    {
     "name": "stdout",
     "output_type": "stream",
     "text": [
      "Enter thr string : Gandhinagar\n",
      "Enter the Character : 5\n",
      "Gandhnagar\n"
     ]
    }
   ],
   "source": [
    "def remove_character():\n",
    "    str_1 = input(\"Enter thr string : \")\n",
    "    char_item = int(input(\"Enter the Character : \"))\n",
    "    output_str = ''\n",
    "    for ele in range(len(str_1)):\n",
    "        if ele != char_item:\n",
    "            output_str = output_str + str_1[ele]\n",
    "    print(output_str)\n",
    "remove_character()"
   ]
  },
  {
   "cell_type": "markdown",
   "id": "cb71acfa",
   "metadata": {},
   "source": [
    "Write a Python program to split and join a string?"
   ]
  },
  {
   "cell_type": "code",
   "execution_count": 15,
   "id": "e14ab5b6",
   "metadata": {},
   "outputs": [
    {
     "name": "stdout",
     "output_type": "stream",
     "text": [
      "Enter the string : My Name is Devarakonda Jagannath\n",
      "split string : ['My', 'Name', 'is', 'Devarakonda', 'Jagannath']\n",
      "join string  : My Name is Devarakonda Jagannath\n"
     ]
    }
   ],
   "source": [
    "def split_join_str():\n",
    "    str1 = input(\"Enter the string : \")\n",
    "    print(f\"split string : {str1.split(' ')}\")\n",
    "    print(f\"join string  : {' '.join(str1.split(' '))}\")\n",
    "    \n",
    "split_join_str()"
   ]
  },
  {
   "cell_type": "markdown",
   "id": "bc364dd5",
   "metadata": {},
   "source": [
    "Write a Python to check if a given string is binary string or not?"
   ]
  },
  {
   "cell_type": "code",
   "execution_count": 20,
   "id": "2269ff7e",
   "metadata": {},
   "outputs": [
    {
     "name": "stdout",
     "output_type": "stream",
     "text": [
      "Enter the string : Jagannath01832\n",
      "Jagannath01832 is not a binart string\n",
      "Enter the string : 1010101\n",
      "1010101 is a binary string\n"
     ]
    }
   ],
   "source": [
    "def check_string():\n",
    "    str1 = input(\"Enter the string : \")\n",
    "    str_val = 0\n",
    "    for ele in str1:\n",
    "        if ele in ['0','1']:\n",
    "            str_val = 1\n",
    "            continue\n",
    "        else:\n",
    "            str_val = 0\n",
    "            break\n",
    "    statement = 'is a binary string' if str_val == 1 else 'is not a binart string' \n",
    "    print(f'{str1} {statement}')\n",
    "check_string()\n",
    "check_string()"
   ]
  },
  {
   "cell_type": "markdown",
   "id": "86c408b4",
   "metadata": {},
   "source": [
    "Write a Python program to find uncommon words from two Strings?"
   ]
  },
  {
   "cell_type": "code",
   "execution_count": 23,
   "id": "4cf004d9",
   "metadata": {},
   "outputs": [
    {
     "name": "stdout",
     "output_type": "stream",
     "text": [
      "Enter the string1 : Devarakonda Jagannath\n",
      "Enter the string2 : Devarakonda Mahesh\n",
      "{'Jagannath', 'Mahesh'}\n"
     ]
    }
   ],
   "source": [
    "def verify_string():\n",
    "    str1 = set(input(\"Enter the string1 : \").split(\" \"))\n",
    "    str2 = set(input(\"Enter the string2 : \").split(\" \"))\n",
    "    out_str = (str1.union(str2)).difference(str1.intersection(str2))\n",
    "    print(out_str)\n",
    "verify_string()"
   ]
  },
  {
   "cell_type": "markdown",
   "id": "04777dd9",
   "metadata": {},
   "source": [
    "Write a Python to find all duplicate characters in string?"
   ]
  },
  {
   "cell_type": "code",
   "execution_count": 25,
   "id": "4fe38b45",
   "metadata": {},
   "outputs": [
    {
     "name": "stdout",
     "output_type": "stream",
     "text": [
      "Enter the string : Devarakonda Jagannath\n",
      "Duplicate characters are: ['n', 'a']\n"
     ]
    }
   ],
   "source": [
    "def duplicate_characters():\n",
    "    str1 = input(\"Enter the string : \")\n",
    "    non_dup_char = []\n",
    "    dup_char = []\n",
    "    for ele in str1:\n",
    "        if ele not in non_dup_char:\n",
    "            non_dup_char.append(ele)\n",
    "        else:\n",
    "            dup_char.append(ele)\n",
    "    print(f'Duplicate characters are: {list(set(dup_char))}')\n",
    "duplicate_characters()"
   ]
  },
  {
   "cell_type": "markdown",
   "id": "ae416b5c",
   "metadata": {},
   "source": [
    "Write a Python Program to check if a string contains any special character?"
   ]
  },
  {
   "cell_type": "code",
   "execution_count": 27,
   "id": "17e0b932",
   "metadata": {},
   "outputs": [
    {
     "name": "stdout",
     "output_type": "stream",
     "text": [
      "Enter the string: Devarakonda Jagannath\n",
      "There are 0 Speical Characters in Devarakonda Jagannath which are []\n",
      "Enter the string: jagannath20@743keh7&\n",
      "There are 2 Speical Characters in jagannath20@743keh7& which are ['@', '&']\n"
     ]
    }
   ],
   "source": [
    "def check_special_char():\n",
    "    spl_chars = '[@_!#$%^&*()<>?/\\|}{~:]'\n",
    "    str1 = input('Enter the string: ')\n",
    "    count = 0\n",
    "    char_list = []\n",
    "    for ele in str1:\n",
    "        if ele in spl_chars:\n",
    "            char_list.append(ele)\n",
    "            count = count+1\n",
    "    print(f'There are {count} Speical Characters in {str1} which are {char_list}')\n",
    "            \n",
    "        \n",
    "check_special_char()\n",
    "check_special_char()"
   ]
  },
  {
   "cell_type": "code",
   "execution_count": null,
   "id": "b93baca3",
   "metadata": {},
   "outputs": [],
   "source": []
  }
 ],
 "metadata": {
  "kernelspec": {
   "display_name": "Python 3 (ipykernel)",
   "language": "python",
   "name": "python3"
  },
  "language_info": {
   "codemirror_mode": {
    "name": "ipython",
    "version": 3
   },
   "file_extension": ".py",
   "mimetype": "text/x-python",
   "name": "python",
   "nbconvert_exporter": "python",
   "pygments_lexer": "ipython3",
   "version": "3.9.7"
  }
 },
 "nbformat": 4,
 "nbformat_minor": 5
}
