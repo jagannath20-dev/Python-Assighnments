{
 "cells": [
  {
   "cell_type": "markdown",
   "id": "6ce99a99",
   "metadata": {},
   "source": [
    "Write a Python Program to Display Fibonacci Sequence Using Recursion?"
   ]
  },
  {
   "cell_type": "code",
   "execution_count": 1,
   "id": "e6ea1683",
   "metadata": {},
   "outputs": [
    {
     "name": "stdout",
     "output_type": "stream",
     "text": [
      "34\n"
     ]
    }
   ],
   "source": [
    "def fibonacci_recursion(n):\n",
    "    if n < 0:\n",
    "        print(\"Incorrect Input\")\n",
    "    elif n == 0:\n",
    "        return 0\n",
    "    elif n == 1 or n == 2:\n",
    "        return 1\n",
    "    else:\n",
    "        return fibonacci_recursion(n-1) + fibonacci_recursion(n-2)\n",
    "print(fibonacci_recursion(9))   "
   ]
  },
  {
   "cell_type": "markdown",
   "id": "f3bda33b",
   "metadata": {},
   "source": [
    "Write a Python Program to Find Factorial of Number Using Recursion?"
   ]
  },
  {
   "cell_type": "code",
   "execution_count": 6,
   "id": "82aa44e3",
   "metadata": {},
   "outputs": [
    {
     "name": "stdout",
     "output_type": "stream",
     "text": [
      "Enter any number : 7\n",
      "The factorial of 7 is 5040\n"
     ]
    }
   ],
   "source": [
    "def recursion_factorial(n):\n",
    "    if n == 1:\n",
    "        return n\n",
    "    else :\n",
    "        return n*recursion_factorial(n-1)\n",
    "n = int(input(\"Enter any number : \"))\n",
    "if n < 0:\n",
    "    print(\"Sorry please enter positive input\")\n",
    "elif n == 0:\n",
    "    print(f'Factorial of a 0 is 1')\n",
    "else:\n",
    "    print(\"The factorial of\", n, \"is\", recursion_factorial(n))"
   ]
  },
  {
   "cell_type": "markdown",
   "id": "dd13d029",
   "metadata": {},
   "source": [
    "Write a Python Program to calculate your Body Mass Index?"
   ]
  },
  {
   "cell_type": "code",
   "execution_count": 10,
   "id": "54396b7d",
   "metadata": {},
   "outputs": [
    {
     "name": "stdout",
     "output_type": "stream",
     "text": [
      "Enter the height of a body : 5.6\n",
      "Enter the weight of a body : 50\n",
      "Body Mass Index of a body is 1.5943877551020411\n",
      "underweight\n"
     ]
    }
   ],
   "source": [
    "height = x\n",
    "weight = y\n",
    "def BMI(x,y):\n",
    "    bmi = y/(x**2)\n",
    "    return bmi\n",
    "x = float(input(\"Enter the height of a body : \"))\n",
    "y = float(input(\"Enter the weight of a body : \"))\n",
    "b = BMI(x,y)\n",
    "print(f'Body Mass Index of a body is {b}')\n",
    "if (b < 18.5):\n",
    "    print(\"underweight\")\n",
    " \n",
    "elif ( b >= 18.5 and b < 24.9):\n",
    "    print(\"Healthy\")\n",
    " \n",
    "elif ( b >= 24.9 and b < 30):\n",
    "    print(\"overweight\")\n",
    " \n",
    "elif ( b >=30):\n",
    "    print(\"Suffering from Obesity\")"
   ]
  },
  {
   "cell_type": "markdown",
   "id": "d9f5e4f5",
   "metadata": {},
   "source": [
    "Write a Python Program to calculate the natural logarithm of any number?\n"
   ]
  },
  {
   "cell_type": "code",
   "execution_count": 20,
   "id": "4a0aca42",
   "metadata": {},
   "outputs": [
    {
     "name": "stdout",
     "output_type": "stream",
     "text": [
      "Logarithm base 2 of 14 is : 3.807354922057604\n"
     ]
    }
   ],
   "source": [
    "import math\n",
    "print (\"Logarithm base 2 of 14 is : \", end=\"\")\n",
    "print(math.log2(14))"
   ]
  },
  {
   "cell_type": "markdown",
   "id": "f3af50b3",
   "metadata": {},
   "source": [
    "Write a Python Program for cube sum of first n natural numbers?"
   ]
  },
  {
   "cell_type": "code",
   "execution_count": 29,
   "id": "29cc9d7f",
   "metadata": {},
   "outputs": [
    {
     "name": "stdout",
     "output_type": "stream",
     "text": [
      "3025\n"
     ]
    }
   ],
   "source": [
    "def sumofseries(n):\n",
    "    sum = 0\n",
    "    for i in range(1,n+1):\n",
    "        sum +=i*i*i\n",
    "    return sum\n",
    "n = 10\n",
    "print(sumofseries(10))"
   ]
  },
  {
   "cell_type": "code",
   "execution_count": 31,
   "id": "8a93d160",
   "metadata": {},
   "outputs": [
    {
     "name": "stdout",
     "output_type": "stream",
     "text": [
      "3025\n"
     ]
    }
   ],
   "source": [
    "sum = 0 \n",
    "for i in range(1,11):\n",
    "    sum = sum+i**3\n",
    "print(sum)"
   ]
  },
  {
   "cell_type": "code",
   "execution_count": null,
   "id": "92a4c74d",
   "metadata": {},
   "outputs": [],
   "source": []
  }
 ],
 "metadata": {
  "kernelspec": {
   "display_name": "Python 3 (ipykernel)",
   "language": "python",
   "name": "python3"
  },
  "language_info": {
   "codemirror_mode": {
    "name": "ipython",
    "version": 3
   },
   "file_extension": ".py",
   "mimetype": "text/x-python",
   "name": "python",
   "nbconvert_exporter": "python",
   "pygments_lexer": "ipython3",
   "version": "3.9.7"
  }
 },
 "nbformat": 4,
 "nbformat_minor": 5
}
